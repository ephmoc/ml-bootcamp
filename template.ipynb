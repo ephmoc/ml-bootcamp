{
 "nbformat": 4,
 "nbformat_minor": 0,
 "metadata": {
  "colab": {
   "provenance": [],
   "mount_file_id": "1-ZKneeXU5beyh7GnCOSCXmt_4BoNqm7n",
   "authorship_tag": "ABX9TyOUirvilkZdIN6SLQq917X0",
   "include_colab_link": true
  },
  "kernelspec": {
   "name": "python3",
   "language": "python",
   "display_name": "Python 3 (ipykernel)"
  },
  "language_info": {
   "name": "python"
  }
 },
 "cells": [
  {
   "cell_type": "raw",
   "source": [
    "<a href=\"https://colab.research.google.com/github/ephmoc/ml-bootcamp/blob/main/template.ipynb\" target=\"_parent\"><img src=\"https://colab.research.google.com/assets/colab-badge.svg\" alt=\"Open In Colab\"/></a>"
   ],
   "metadata": {
    "collapsed": false
   }
  },
  {
   "cell_type": "code",
   "execution_count": 3,
   "metadata": {
    "colab": {
     "base_uri": "https://localhost:8080/"
    },
    "id": "qP7R53gIdmiC",
    "outputId": "9581472d-6fe1-4c65-e869-d9a6105292ef",
    "ExecuteTime": {
     "end_time": "2023-11-16T10:40:02.803722Z",
     "start_time": "2023-11-16T10:40:01.357148Z"
    }
   },
   "outputs": [
    {
     "data": {
      "text/plain": "'1.3.2'"
     },
     "execution_count": 3,
     "metadata": {},
     "output_type": "execute_result"
    }
   ],
   "source": [
    "import numpy as np\n",
    "import pandas as pd\n",
    "import sklearn\n",
    "\n",
    "sklearn.__version__"
   ]
  },
  {
   "cell_type": "code",
   "execution_count": 4,
   "outputs": [
    {
     "data": {
      "text/plain": "  size  color  gender  price  weight bought\n0   XL    red  female  199.0     500    yes\n1    L  green    male   89.0     450     no\n2    M   blue    male   99.0     300    yes\n3    L  green  female  129.0     380     no\n4    M    red  female   79.0     410    yes",
      "text/html": "<div>\n<style scoped>\n    .dataframe tbody tr th:only-of-type {\n        vertical-align: middle;\n    }\n\n    .dataframe tbody tr th {\n        vertical-align: top;\n    }\n\n    .dataframe thead th {\n        text-align: right;\n    }\n</style>\n<table border=\"1\" class=\"dataframe\">\n  <thead>\n    <tr style=\"text-align: right;\">\n      <th></th>\n      <th>size</th>\n      <th>color</th>\n      <th>gender</th>\n      <th>price</th>\n      <th>weight</th>\n      <th>bought</th>\n    </tr>\n  </thead>\n  <tbody>\n    <tr>\n      <th>0</th>\n      <td>XL</td>\n      <td>red</td>\n      <td>female</td>\n      <td>199.0</td>\n      <td>500</td>\n      <td>yes</td>\n    </tr>\n    <tr>\n      <th>1</th>\n      <td>L</td>\n      <td>green</td>\n      <td>male</td>\n      <td>89.0</td>\n      <td>450</td>\n      <td>no</td>\n    </tr>\n    <tr>\n      <th>2</th>\n      <td>M</td>\n      <td>blue</td>\n      <td>male</td>\n      <td>99.0</td>\n      <td>300</td>\n      <td>yes</td>\n    </tr>\n    <tr>\n      <th>3</th>\n      <td>L</td>\n      <td>green</td>\n      <td>female</td>\n      <td>129.0</td>\n      <td>380</td>\n      <td>no</td>\n    </tr>\n    <tr>\n      <th>4</th>\n      <td>M</td>\n      <td>red</td>\n      <td>female</td>\n      <td>79.0</td>\n      <td>410</td>\n      <td>yes</td>\n    </tr>\n  </tbody>\n</table>\n</div>"
     },
     "execution_count": 4,
     "metadata": {},
     "output_type": "execute_result"
    }
   ],
   "source": [
    "data = {\n",
    "    'size': ['XL', 'L', 'M', 'L', 'M'],\n",
    "    'color': ['red', 'green', 'blue', 'green', 'red'],\n",
    "    'gender': ['female', 'male', 'male', 'female', 'female'],\n",
    "    'price': [199.0, 89.0, 99.0, 129.0, 79.0],\n",
    "    'weight': [500, 450, 300, 380, 410],\n",
    "    'bought': ['yes', 'no', 'yes', 'no', 'yes']\n",
    "}\n",
    "\n",
    "df_raw = pd.DataFrame(data=data)\n",
    "df_raw"
   ],
   "metadata": {
    "collapsed": false,
    "ExecuteTime": {
     "end_time": "2023-11-16T10:40:05.908298Z",
     "start_time": "2023-11-16T10:40:05.842165Z"
    }
   }
  },
  {
   "cell_type": "code",
   "execution_count": 5,
   "outputs": [
    {
     "name": "stdout",
     "output_type": "stream",
     "text": [
      "<class 'pandas.core.frame.DataFrame'>\n",
      "RangeIndex: 5 entries, 0 to 4\n",
      "Data columns (total 6 columns):\n",
      " #   Column  Non-Null Count  Dtype  \n",
      "---  ------  --------------  -----  \n",
      " 0   size    5 non-null      object \n",
      " 1   color   5 non-null      object \n",
      " 2   gender  5 non-null      object \n",
      " 3   price   5 non-null      float64\n",
      " 4   weight  5 non-null      int64  \n",
      " 5   bought  5 non-null      object \n",
      "dtypes: float64(1), int64(1), object(4)\n",
      "memory usage: 372.0+ bytes\n"
     ]
    }
   ],
   "source": [
    "df = df_raw.copy()\n",
    "df.info()"
   ],
   "metadata": {
    "collapsed": false,
    "ExecuteTime": {
     "end_time": "2023-11-16T10:40:37.083942Z",
     "start_time": "2023-11-16T10:40:37.064748Z"
    }
   }
  },
  {
   "cell_type": "code",
   "execution_count": 6,
   "outputs": [
    {
     "name": "stdout",
     "output_type": "stream",
     "text": [
      "<class 'pandas.core.frame.DataFrame'>\n",
      "RangeIndex: 5 entries, 0 to 4\n",
      "Data columns (total 6 columns):\n",
      " #   Column  Non-Null Count  Dtype   \n",
      "---  ------  --------------  -----   \n",
      " 0   size    5 non-null      category\n",
      " 1   color   5 non-null      category\n",
      " 2   gender  5 non-null      category\n",
      " 3   price   5 non-null      float64 \n",
      " 4   weight  5 non-null      float64 \n",
      " 5   bought  5 non-null      category\n",
      "dtypes: category(4), float64(2)\n",
      "memory usage: 744.0 bytes\n"
     ]
    }
   ],
   "source": [
    "\n",
    "for col in ['size', 'color', 'gender', 'bought']:\n",
    "    df[col] = df[col].astype('category')\n",
    "\n",
    "df['weight'] = df['weight'].astype('float')\n",
    "\n",
    "df.info()"
   ],
   "metadata": {
    "collapsed": false,
    "ExecuteTime": {
     "end_time": "2023-11-16T11:15:06.098916Z",
     "start_time": "2023-11-16T11:15:05.986771Z"
    }
   }
  },
  {
   "cell_type": "code",
   "execution_count": 7,
   "outputs": [
    {
     "data": {
      "text/plain": "            price      weight\ncount    5.000000    5.000000\nmean   119.000000  408.000000\nstd     48.476799   75.299402\nmin     79.000000  300.000000\n25%     89.000000  380.000000\n50%     99.000000  410.000000\n75%    129.000000  450.000000\nmax    199.000000  500.000000",
      "text/html": "<div>\n<style scoped>\n    .dataframe tbody tr th:only-of-type {\n        vertical-align: middle;\n    }\n\n    .dataframe tbody tr th {\n        vertical-align: top;\n    }\n\n    .dataframe thead th {\n        text-align: right;\n    }\n</style>\n<table border=\"1\" class=\"dataframe\">\n  <thead>\n    <tr style=\"text-align: right;\">\n      <th></th>\n      <th>price</th>\n      <th>weight</th>\n    </tr>\n  </thead>\n  <tbody>\n    <tr>\n      <th>count</th>\n      <td>5.000000</td>\n      <td>5.000000</td>\n    </tr>\n    <tr>\n      <th>mean</th>\n      <td>119.000000</td>\n      <td>408.000000</td>\n    </tr>\n    <tr>\n      <th>std</th>\n      <td>48.476799</td>\n      <td>75.299402</td>\n    </tr>\n    <tr>\n      <th>min</th>\n      <td>79.000000</td>\n      <td>300.000000</td>\n    </tr>\n    <tr>\n      <th>25%</th>\n      <td>89.000000</td>\n      <td>380.000000</td>\n    </tr>\n    <tr>\n      <th>50%</th>\n      <td>99.000000</td>\n      <td>410.000000</td>\n    </tr>\n    <tr>\n      <th>75%</th>\n      <td>129.000000</td>\n      <td>450.000000</td>\n    </tr>\n    <tr>\n      <th>max</th>\n      <td>199.000000</td>\n      <td>500.000000</td>\n    </tr>\n  </tbody>\n</table>\n</div>"
     },
     "execution_count": 7,
     "metadata": {},
     "output_type": "execute_result"
    }
   ],
   "source": [
    "df.describe()"
   ],
   "metadata": {
    "collapsed": false,
    "ExecuteTime": {
     "end_time": "2023-11-16T11:15:36.646838Z",
     "start_time": "2023-11-16T11:15:36.614254Z"
    }
   }
  },
  {
   "cell_type": "code",
   "execution_count": 8,
   "outputs": [
    {
     "data": {
      "text/plain": "        count   mean        std    min    25%    50%    75%    max\nprice     5.0  119.0  48.476799   79.0   89.0   99.0  129.0  199.0\nweight    5.0  408.0  75.299402  300.0  380.0  410.0  450.0  500.0",
      "text/html": "<div>\n<style scoped>\n    .dataframe tbody tr th:only-of-type {\n        vertical-align: middle;\n    }\n\n    .dataframe tbody tr th {\n        vertical-align: top;\n    }\n\n    .dataframe thead th {\n        text-align: right;\n    }\n</style>\n<table border=\"1\" class=\"dataframe\">\n  <thead>\n    <tr style=\"text-align: right;\">\n      <th></th>\n      <th>count</th>\n      <th>mean</th>\n      <th>std</th>\n      <th>min</th>\n      <th>25%</th>\n      <th>50%</th>\n      <th>75%</th>\n      <th>max</th>\n    </tr>\n  </thead>\n  <tbody>\n    <tr>\n      <th>price</th>\n      <td>5.0</td>\n      <td>119.0</td>\n      <td>48.476799</td>\n      <td>79.0</td>\n      <td>89.0</td>\n      <td>99.0</td>\n      <td>129.0</td>\n      <td>199.0</td>\n    </tr>\n    <tr>\n      <th>weight</th>\n      <td>5.0</td>\n      <td>408.0</td>\n      <td>75.299402</td>\n      <td>300.0</td>\n      <td>380.0</td>\n      <td>410.0</td>\n      <td>450.0</td>\n      <td>500.0</td>\n    </tr>\n  </tbody>\n</table>\n</div>"
     },
     "execution_count": 8,
     "metadata": {},
     "output_type": "execute_result"
    }
   ],
   "source": [
    "df.describe().T"
   ],
   "metadata": {
    "collapsed": false,
    "ExecuteTime": {
     "end_time": "2023-11-16T11:16:03.052916Z",
     "start_time": "2023-11-16T11:16:03.043409Z"
    }
   }
  },
  {
   "cell_type": "code",
   "execution_count": 9,
   "outputs": [
    {
     "data": {
      "text/plain": "       count unique     top freq\nsize       5      3       L    2\ncolor      5      3   green    2\ngender     5      2  female    3\nbought     5      2     yes    3",
      "text/html": "<div>\n<style scoped>\n    .dataframe tbody tr th:only-of-type {\n        vertical-align: middle;\n    }\n\n    .dataframe tbody tr th {\n        vertical-align: top;\n    }\n\n    .dataframe thead th {\n        text-align: right;\n    }\n</style>\n<table border=\"1\" class=\"dataframe\">\n  <thead>\n    <tr style=\"text-align: right;\">\n      <th></th>\n      <th>count</th>\n      <th>unique</th>\n      <th>top</th>\n      <th>freq</th>\n    </tr>\n  </thead>\n  <tbody>\n    <tr>\n      <th>size</th>\n      <td>5</td>\n      <td>3</td>\n      <td>L</td>\n      <td>2</td>\n    </tr>\n    <tr>\n      <th>color</th>\n      <td>5</td>\n      <td>3</td>\n      <td>green</td>\n      <td>2</td>\n    </tr>\n    <tr>\n      <th>gender</th>\n      <td>5</td>\n      <td>2</td>\n      <td>female</td>\n      <td>3</td>\n    </tr>\n    <tr>\n      <th>bought</th>\n      <td>5</td>\n      <td>2</td>\n      <td>yes</td>\n      <td>3</td>\n    </tr>\n  </tbody>\n</table>\n</div>"
     },
     "execution_count": 9,
     "metadata": {},
     "output_type": "execute_result"
    }
   ],
   "source": [
    "df.describe(include=['category']).T"
   ],
   "metadata": {
    "collapsed": false,
    "ExecuteTime": {
     "end_time": "2023-11-16T11:16:19.153709Z",
     "start_time": "2023-11-16T11:16:19.152304Z"
    }
   }
  },
  {
   "cell_type": "code",
   "execution_count": 10,
   "outputs": [
    {
     "data": {
      "text/plain": "  size  color  gender  price  weight bought\n0   XL    red  female  199.0   500.0    yes\n1    L  green    male   89.0   450.0     no\n2    M   blue    male   99.0   300.0    yes\n3    L  green  female  129.0   380.0     no\n4    M    red  female   79.0   410.0    yes",
      "text/html": "<div>\n<style scoped>\n    .dataframe tbody tr th:only-of-type {\n        vertical-align: middle;\n    }\n\n    .dataframe tbody tr th {\n        vertical-align: top;\n    }\n\n    .dataframe thead th {\n        text-align: right;\n    }\n</style>\n<table border=\"1\" class=\"dataframe\">\n  <thead>\n    <tr style=\"text-align: right;\">\n      <th></th>\n      <th>size</th>\n      <th>color</th>\n      <th>gender</th>\n      <th>price</th>\n      <th>weight</th>\n      <th>bought</th>\n    </tr>\n  </thead>\n  <tbody>\n    <tr>\n      <th>0</th>\n      <td>XL</td>\n      <td>red</td>\n      <td>female</td>\n      <td>199.0</td>\n      <td>500.0</td>\n      <td>yes</td>\n    </tr>\n    <tr>\n      <th>1</th>\n      <td>L</td>\n      <td>green</td>\n      <td>male</td>\n      <td>89.0</td>\n      <td>450.0</td>\n      <td>no</td>\n    </tr>\n    <tr>\n      <th>2</th>\n      <td>M</td>\n      <td>blue</td>\n      <td>male</td>\n      <td>99.0</td>\n      <td>300.0</td>\n      <td>yes</td>\n    </tr>\n    <tr>\n      <th>3</th>\n      <td>L</td>\n      <td>green</td>\n      <td>female</td>\n      <td>129.0</td>\n      <td>380.0</td>\n      <td>no</td>\n    </tr>\n    <tr>\n      <th>4</th>\n      <td>M</td>\n      <td>red</td>\n      <td>female</td>\n      <td>79.0</td>\n      <td>410.0</td>\n      <td>yes</td>\n    </tr>\n  </tbody>\n</table>\n</div>"
     },
     "execution_count": 10,
     "metadata": {},
     "output_type": "execute_result"
    }
   ],
   "source": [
    "df"
   ],
   "metadata": {
    "collapsed": false,
    "ExecuteTime": {
     "end_time": "2023-11-16T11:17:12.558231Z",
     "start_time": "2023-11-16T11:17:12.539310Z"
    }
   }
  },
  {
   "cell_type": "code",
   "execution_count": 11,
   "outputs": [
    {
     "data": {
      "text/plain": "array([1, 0, 1, 0, 1])"
     },
     "execution_count": 11,
     "metadata": {},
     "output_type": "execute_result"
    }
   ],
   "source": [
    "\n",
    "from sklearn.preprocessing import LabelEncoder\n",
    "\n",
    "le = LabelEncoder()\n",
    "le.fit(df['bought'])\n",
    "le.transform(df['bought'])"
   ],
   "metadata": {
    "collapsed": false,
    "ExecuteTime": {
     "end_time": "2023-11-16T11:18:00.165559Z",
     "start_time": "2023-11-16T11:17:59.958995Z"
    }
   }
  },
  {
   "cell_type": "code",
   "execution_count": 12,
   "outputs": [
    {
     "data": {
      "text/plain": "array([1, 0, 1, 0, 1])"
     },
     "execution_count": 12,
     "metadata": {},
     "output_type": "execute_result"
    }
   ],
   "source": [
    "le.fit_transform(df['bought'])"
   ],
   "metadata": {
    "collapsed": false,
    "ExecuteTime": {
     "end_time": "2023-11-16T11:18:20.135104Z",
     "start_time": "2023-11-16T11:18:20.128739Z"
    }
   }
  },
  {
   "cell_type": "code",
   "execution_count": 13,
   "outputs": [
    {
     "data": {
      "text/plain": "array(['no', 'yes'], dtype=object)"
     },
     "execution_count": 13,
     "metadata": {},
     "output_type": "execute_result"
    }
   ],
   "source": [
    "le.classes_"
   ],
   "metadata": {
    "collapsed": false,
    "ExecuteTime": {
     "end_time": "2023-11-16T11:18:37.273387Z",
     "start_time": "2023-11-16T11:18:37.267093Z"
    }
   }
  },
  {
   "cell_type": "code",
   "execution_count": 14,
   "outputs": [
    {
     "data": {
      "text/plain": "  size  color  gender  price  weight  bought\n0   XL    red  female  199.0   500.0       1\n1    L  green    male   89.0   450.0       0\n2    M   blue    male   99.0   300.0       1\n3    L  green  female  129.0   380.0       0\n4    M    red  female   79.0   410.0       1",
      "text/html": "<div>\n<style scoped>\n    .dataframe tbody tr th:only-of-type {\n        vertical-align: middle;\n    }\n\n    .dataframe tbody tr th {\n        vertical-align: top;\n    }\n\n    .dataframe thead th {\n        text-align: right;\n    }\n</style>\n<table border=\"1\" class=\"dataframe\">\n  <thead>\n    <tr style=\"text-align: right;\">\n      <th></th>\n      <th>size</th>\n      <th>color</th>\n      <th>gender</th>\n      <th>price</th>\n      <th>weight</th>\n      <th>bought</th>\n    </tr>\n  </thead>\n  <tbody>\n    <tr>\n      <th>0</th>\n      <td>XL</td>\n      <td>red</td>\n      <td>female</td>\n      <td>199.0</td>\n      <td>500.0</td>\n      <td>1</td>\n    </tr>\n    <tr>\n      <th>1</th>\n      <td>L</td>\n      <td>green</td>\n      <td>male</td>\n      <td>89.0</td>\n      <td>450.0</td>\n      <td>0</td>\n    </tr>\n    <tr>\n      <th>2</th>\n      <td>M</td>\n      <td>blue</td>\n      <td>male</td>\n      <td>99.0</td>\n      <td>300.0</td>\n      <td>1</td>\n    </tr>\n    <tr>\n      <th>3</th>\n      <td>L</td>\n      <td>green</td>\n      <td>female</td>\n      <td>129.0</td>\n      <td>380.0</td>\n      <td>0</td>\n    </tr>\n    <tr>\n      <th>4</th>\n      <td>M</td>\n      <td>red</td>\n      <td>female</td>\n      <td>79.0</td>\n      <td>410.0</td>\n      <td>1</td>\n    </tr>\n  </tbody>\n</table>\n</div>"
     },
     "execution_count": 14,
     "metadata": {},
     "output_type": "execute_result"
    }
   ],
   "source": [
    "df['bought'] = le.fit_transform(df['bought'])\n",
    "df"
   ],
   "metadata": {
    "collapsed": false,
    "ExecuteTime": {
     "end_time": "2023-11-16T11:18:50.024988Z",
     "start_time": "2023-11-16T11:18:50.019220Z"
    }
   }
  },
  {
   "cell_type": "code",
   "execution_count": 15,
   "outputs": [
    {
     "data": {
      "text/plain": "array(['yes', 'no', 'yes', 'no', 'yes'], dtype=object)"
     },
     "execution_count": 15,
     "metadata": {},
     "output_type": "execute_result"
    }
   ],
   "source": [
    "le.inverse_transform(df['bought'])"
   ],
   "metadata": {
    "collapsed": false,
    "ExecuteTime": {
     "end_time": "2023-11-16T11:19:07.701304Z",
     "start_time": "2023-11-16T11:19:07.692793Z"
    }
   }
  },
  {
   "cell_type": "code",
   "execution_count": 16,
   "outputs": [
    {
     "data": {
      "text/plain": "  size  color  gender  price  weight bought\n0   XL    red  female  199.0   500.0    yes\n1    L  green    male   89.0   450.0     no\n2    M   blue    male   99.0   300.0    yes\n3    L  green  female  129.0   380.0     no\n4    M    red  female   79.0   410.0    yes",
      "text/html": "<div>\n<style scoped>\n    .dataframe tbody tr th:only-of-type {\n        vertical-align: middle;\n    }\n\n    .dataframe tbody tr th {\n        vertical-align: top;\n    }\n\n    .dataframe thead th {\n        text-align: right;\n    }\n</style>\n<table border=\"1\" class=\"dataframe\">\n  <thead>\n    <tr style=\"text-align: right;\">\n      <th></th>\n      <th>size</th>\n      <th>color</th>\n      <th>gender</th>\n      <th>price</th>\n      <th>weight</th>\n      <th>bought</th>\n    </tr>\n  </thead>\n  <tbody>\n    <tr>\n      <th>0</th>\n      <td>XL</td>\n      <td>red</td>\n      <td>female</td>\n      <td>199.0</td>\n      <td>500.0</td>\n      <td>yes</td>\n    </tr>\n    <tr>\n      <th>1</th>\n      <td>L</td>\n      <td>green</td>\n      <td>male</td>\n      <td>89.0</td>\n      <td>450.0</td>\n      <td>no</td>\n    </tr>\n    <tr>\n      <th>2</th>\n      <td>M</td>\n      <td>blue</td>\n      <td>male</td>\n      <td>99.0</td>\n      <td>300.0</td>\n      <td>yes</td>\n    </tr>\n    <tr>\n      <th>3</th>\n      <td>L</td>\n      <td>green</td>\n      <td>female</td>\n      <td>129.0</td>\n      <td>380.0</td>\n      <td>no</td>\n    </tr>\n    <tr>\n      <th>4</th>\n      <td>M</td>\n      <td>red</td>\n      <td>female</td>\n      <td>79.0</td>\n      <td>410.0</td>\n      <td>yes</td>\n    </tr>\n  </tbody>\n</table>\n</div>"
     },
     "execution_count": 16,
     "metadata": {},
     "output_type": "execute_result"
    }
   ],
   "source": [
    "df['bought'] = le.inverse_transform(df['bought'])\n",
    "df"
   ],
   "metadata": {
    "collapsed": false,
    "ExecuteTime": {
     "end_time": "2023-11-16T11:19:24.972598Z",
     "start_time": "2023-11-16T11:19:24.960850Z"
    }
   }
  },
  {
   "cell_type": "markdown",
   "source": [
    "### OneHotEncoder"
   ],
   "metadata": {
    "collapsed": false
   }
  },
  {
   "cell_type": "code",
   "execution_count": 18,
   "outputs": [
    {
     "data": {
      "text/plain": "OneHotEncoder(sparse_output=False)",
      "text/html": "<style>#sk-container-id-2 {color: black;}#sk-container-id-2 pre{padding: 0;}#sk-container-id-2 div.sk-toggleable {background-color: white;}#sk-container-id-2 label.sk-toggleable__label {cursor: pointer;display: block;width: 100%;margin-bottom: 0;padding: 0.3em;box-sizing: border-box;text-align: center;}#sk-container-id-2 label.sk-toggleable__label-arrow:before {content: \"▸\";float: left;margin-right: 0.25em;color: #696969;}#sk-container-id-2 label.sk-toggleable__label-arrow:hover:before {color: black;}#sk-container-id-2 div.sk-estimator:hover label.sk-toggleable__label-arrow:before {color: black;}#sk-container-id-2 div.sk-toggleable__content {max-height: 0;max-width: 0;overflow: hidden;text-align: left;background-color: #f0f8ff;}#sk-container-id-2 div.sk-toggleable__content pre {margin: 0.2em;color: black;border-radius: 0.25em;background-color: #f0f8ff;}#sk-container-id-2 input.sk-toggleable__control:checked~div.sk-toggleable__content {max-height: 200px;max-width: 100%;overflow: auto;}#sk-container-id-2 input.sk-toggleable__control:checked~label.sk-toggleable__label-arrow:before {content: \"▾\";}#sk-container-id-2 div.sk-estimator input.sk-toggleable__control:checked~label.sk-toggleable__label {background-color: #d4ebff;}#sk-container-id-2 div.sk-label input.sk-toggleable__control:checked~label.sk-toggleable__label {background-color: #d4ebff;}#sk-container-id-2 input.sk-hidden--visually {border: 0;clip: rect(1px 1px 1px 1px);clip: rect(1px, 1px, 1px, 1px);height: 1px;margin: -1px;overflow: hidden;padding: 0;position: absolute;width: 1px;}#sk-container-id-2 div.sk-estimator {font-family: monospace;background-color: #f0f8ff;border: 1px dotted black;border-radius: 0.25em;box-sizing: border-box;margin-bottom: 0.5em;}#sk-container-id-2 div.sk-estimator:hover {background-color: #d4ebff;}#sk-container-id-2 div.sk-parallel-item::after {content: \"\";width: 100%;border-bottom: 1px solid gray;flex-grow: 1;}#sk-container-id-2 div.sk-label:hover label.sk-toggleable__label {background-color: #d4ebff;}#sk-container-id-2 div.sk-serial::before {content: \"\";position: absolute;border-left: 1px solid gray;box-sizing: border-box;top: 0;bottom: 0;left: 50%;z-index: 0;}#sk-container-id-2 div.sk-serial {display: flex;flex-direction: column;align-items: center;background-color: white;padding-right: 0.2em;padding-left: 0.2em;position: relative;}#sk-container-id-2 div.sk-item {position: relative;z-index: 1;}#sk-container-id-2 div.sk-parallel {display: flex;align-items: stretch;justify-content: center;background-color: white;position: relative;}#sk-container-id-2 div.sk-item::before, #sk-container-id-2 div.sk-parallel-item::before {content: \"\";position: absolute;border-left: 1px solid gray;box-sizing: border-box;top: 0;bottom: 0;left: 50%;z-index: -1;}#sk-container-id-2 div.sk-parallel-item {display: flex;flex-direction: column;z-index: 1;position: relative;background-color: white;}#sk-container-id-2 div.sk-parallel-item:first-child::after {align-self: flex-end;width: 50%;}#sk-container-id-2 div.sk-parallel-item:last-child::after {align-self: flex-start;width: 50%;}#sk-container-id-2 div.sk-parallel-item:only-child::after {width: 0;}#sk-container-id-2 div.sk-dashed-wrapped {border: 1px dashed gray;margin: 0 0.4em 0.5em 0.4em;box-sizing: border-box;padding-bottom: 0.4em;background-color: white;}#sk-container-id-2 div.sk-label label {font-family: monospace;font-weight: bold;display: inline-block;line-height: 1.2em;}#sk-container-id-2 div.sk-label-container {text-align: center;}#sk-container-id-2 div.sk-container {/* jupyter's `normalize.less` sets `[hidden] { display: none; }` but bootstrap.min.css set `[hidden] { display: none !important; }` so we also need the `!important` here to be able to override the default hidden behavior on the sphinx rendered scikit-learn.org. See: https://github.com/scikit-learn/scikit-learn/issues/21755 */display: inline-block !important;position: relative;}#sk-container-id-2 div.sk-text-repr-fallback {display: none;}</style><div id=\"sk-container-id-2\" class=\"sk-top-container\"><div class=\"sk-text-repr-fallback\"><pre>OneHotEncoder(sparse_output=False)</pre><b>In a Jupyter environment, please rerun this cell to show the HTML representation or trust the notebook. <br />On GitHub, the HTML representation is unable to render, please try loading this page with nbviewer.org.</b></div><div class=\"sk-container\" hidden><div class=\"sk-item\"><div class=\"sk-estimator sk-toggleable\"><input class=\"sk-toggleable__control sk-hidden--visually\" id=\"sk-estimator-id-2\" type=\"checkbox\" checked><label for=\"sk-estimator-id-2\" class=\"sk-toggleable__label sk-toggleable__label-arrow\">OneHotEncoder</label><div class=\"sk-toggleable__content\"><pre>OneHotEncoder(sparse_output=False)</pre></div></div></div></div></div>"
     },
     "execution_count": 18,
     "metadata": {},
     "output_type": "execute_result"
    }
   ],
   "source": [
    "from sklearn.preprocessing import OneHotEncoder\n",
    "\n",
    "encoder = OneHotEncoder(sparse_output=False)\n",
    "encoder.fit(df[['size']])"
   ],
   "metadata": {
    "collapsed": false,
    "ExecuteTime": {
     "end_time": "2023-11-16T11:46:08.772159Z",
     "start_time": "2023-11-16T11:46:08.732993Z"
    }
   }
  },
  {
   "cell_type": "code",
   "execution_count": 19,
   "outputs": [
    {
     "data": {
      "text/plain": "array([[0., 0., 1.],\n       [1., 0., 0.],\n       [0., 1., 0.],\n       [1., 0., 0.],\n       [0., 1., 0.]])"
     },
     "execution_count": 19,
     "metadata": {},
     "output_type": "execute_result"
    }
   ],
   "source": [
    "encoder.transform(df[['size']])"
   ],
   "metadata": {
    "collapsed": false,
    "ExecuteTime": {
     "end_time": "2023-11-16T11:46:31.120522Z",
     "start_time": "2023-11-16T11:46:31.118731Z"
    }
   }
  },
  {
   "cell_type": "code",
   "execution_count": 20,
   "outputs": [
    {
     "data": {
      "text/plain": "[array(['L', 'M', 'XL'], dtype=object)]"
     },
     "execution_count": 20,
     "metadata": {},
     "output_type": "execute_result"
    }
   ],
   "source": [
    "encoder.categories_"
   ],
   "metadata": {
    "collapsed": false,
    "ExecuteTime": {
     "end_time": "2023-11-16T11:46:43.947766Z",
     "start_time": "2023-11-16T11:46:43.927707Z"
    }
   }
  },
  {
   "cell_type": "code",
   "execution_count": 22,
   "outputs": [
    {
     "data": {
      "text/plain": "array([[0., 1.],\n       [0., 0.],\n       [1., 0.],\n       [0., 0.],\n       [1., 0.]])"
     },
     "execution_count": 22,
     "metadata": {},
     "output_type": "execute_result"
    }
   ],
   "source": [
    "encoder = OneHotEncoder(drop='first', sparse_output=False)\n",
    "encoder.fit(df[['size']])\n",
    "encoder.transform(df[['size']])"
   ],
   "metadata": {
    "collapsed": false,
    "ExecuteTime": {
     "end_time": "2023-11-16T11:47:06.743553Z",
     "start_time": "2023-11-16T11:47:06.732957Z"
    }
   }
  },
  {
   "cell_type": "code",
   "execution_count": 23,
   "outputs": [
    {
     "data": {
      "text/plain": "  size  color  gender  price  weight bought\n0   XL    red  female  199.0   500.0    yes\n1    L  green    male   89.0   450.0     no\n2    M   blue    male   99.0   300.0    yes\n3    L  green  female  129.0   380.0     no\n4    M    red  female   79.0   410.0    yes",
      "text/html": "<div>\n<style scoped>\n    .dataframe tbody tr th:only-of-type {\n        vertical-align: middle;\n    }\n\n    .dataframe tbody tr th {\n        vertical-align: top;\n    }\n\n    .dataframe thead th {\n        text-align: right;\n    }\n</style>\n<table border=\"1\" class=\"dataframe\">\n  <thead>\n    <tr style=\"text-align: right;\">\n      <th></th>\n      <th>size</th>\n      <th>color</th>\n      <th>gender</th>\n      <th>price</th>\n      <th>weight</th>\n      <th>bought</th>\n    </tr>\n  </thead>\n  <tbody>\n    <tr>\n      <th>0</th>\n      <td>XL</td>\n      <td>red</td>\n      <td>female</td>\n      <td>199.0</td>\n      <td>500.0</td>\n      <td>yes</td>\n    </tr>\n    <tr>\n      <th>1</th>\n      <td>L</td>\n      <td>green</td>\n      <td>male</td>\n      <td>89.0</td>\n      <td>450.0</td>\n      <td>no</td>\n    </tr>\n    <tr>\n      <th>2</th>\n      <td>M</td>\n      <td>blue</td>\n      <td>male</td>\n      <td>99.0</td>\n      <td>300.0</td>\n      <td>yes</td>\n    </tr>\n    <tr>\n      <th>3</th>\n      <td>L</td>\n      <td>green</td>\n      <td>female</td>\n      <td>129.0</td>\n      <td>380.0</td>\n      <td>no</td>\n    </tr>\n    <tr>\n      <th>4</th>\n      <td>M</td>\n      <td>red</td>\n      <td>female</td>\n      <td>79.0</td>\n      <td>410.0</td>\n      <td>yes</td>\n    </tr>\n  </tbody>\n</table>\n</div>"
     },
     "execution_count": 23,
     "metadata": {},
     "output_type": "execute_result"
    }
   ],
   "source": [
    "df"
   ],
   "metadata": {
    "collapsed": false,
    "ExecuteTime": {
     "end_time": "2023-11-16T11:47:16.369202Z",
     "start_time": "2023-11-16T11:47:16.357759Z"
    }
   }
  },
  {
   "cell_type": "code",
   "execution_count": 24,
   "outputs": [
    {
     "data": {
      "text/plain": "   price  weight  size_L  size_M  size_XL  color_blue  color_green  color_red  \\\n0  199.0   500.0   False   False     True       False        False       True   \n1   89.0   450.0    True   False    False       False         True      False   \n2   99.0   300.0   False    True    False        True        False      False   \n3  129.0   380.0    True   False    False       False         True      False   \n4   79.0   410.0   False    True    False       False        False       True   \n\n   gender_female  gender_male  bought_no  bought_yes  \n0           True        False      False        True  \n1          False         True       True       False  \n2          False         True      False        True  \n3           True        False       True       False  \n4           True        False      False        True  ",
      "text/html": "<div>\n<style scoped>\n    .dataframe tbody tr th:only-of-type {\n        vertical-align: middle;\n    }\n\n    .dataframe tbody tr th {\n        vertical-align: top;\n    }\n\n    .dataframe thead th {\n        text-align: right;\n    }\n</style>\n<table border=\"1\" class=\"dataframe\">\n  <thead>\n    <tr style=\"text-align: right;\">\n      <th></th>\n      <th>price</th>\n      <th>weight</th>\n      <th>size_L</th>\n      <th>size_M</th>\n      <th>size_XL</th>\n      <th>color_blue</th>\n      <th>color_green</th>\n      <th>color_red</th>\n      <th>gender_female</th>\n      <th>gender_male</th>\n      <th>bought_no</th>\n      <th>bought_yes</th>\n    </tr>\n  </thead>\n  <tbody>\n    <tr>\n      <th>0</th>\n      <td>199.0</td>\n      <td>500.0</td>\n      <td>False</td>\n      <td>False</td>\n      <td>True</td>\n      <td>False</td>\n      <td>False</td>\n      <td>True</td>\n      <td>True</td>\n      <td>False</td>\n      <td>False</td>\n      <td>True</td>\n    </tr>\n    <tr>\n      <th>1</th>\n      <td>89.0</td>\n      <td>450.0</td>\n      <td>True</td>\n      <td>False</td>\n      <td>False</td>\n      <td>False</td>\n      <td>True</td>\n      <td>False</td>\n      <td>False</td>\n      <td>True</td>\n      <td>True</td>\n      <td>False</td>\n    </tr>\n    <tr>\n      <th>2</th>\n      <td>99.0</td>\n      <td>300.0</td>\n      <td>False</td>\n      <td>True</td>\n      <td>False</td>\n      <td>True</td>\n      <td>False</td>\n      <td>False</td>\n      <td>False</td>\n      <td>True</td>\n      <td>False</td>\n      <td>True</td>\n    </tr>\n    <tr>\n      <th>3</th>\n      <td>129.0</td>\n      <td>380.0</td>\n      <td>True</td>\n      <td>False</td>\n      <td>False</td>\n      <td>False</td>\n      <td>True</td>\n      <td>False</td>\n      <td>True</td>\n      <td>False</td>\n      <td>True</td>\n      <td>False</td>\n    </tr>\n    <tr>\n      <th>4</th>\n      <td>79.0</td>\n      <td>410.0</td>\n      <td>False</td>\n      <td>True</td>\n      <td>False</td>\n      <td>False</td>\n      <td>False</td>\n      <td>True</td>\n      <td>True</td>\n      <td>False</td>\n      <td>False</td>\n      <td>True</td>\n    </tr>\n  </tbody>\n</table>\n</div>"
     },
     "execution_count": 24,
     "metadata": {},
     "output_type": "execute_result"
    }
   ],
   "source": [
    "pd.get_dummies(data=df)"
   ],
   "metadata": {
    "collapsed": false,
    "ExecuteTime": {
     "end_time": "2023-11-16T11:48:57.015303Z",
     "start_time": "2023-11-16T11:48:56.986348Z"
    }
   }
  },
  {
   "cell_type": "code",
   "execution_count": 25,
   "outputs": [
    {
     "data": {
      "text/plain": "   price  weight  size_M  size_XL  color_green  color_red  gender_male  \\\n0  199.0   500.0   False     True        False       True        False   \n1   89.0   450.0   False    False         True      False         True   \n2   99.0   300.0    True    False        False      False         True   \n3  129.0   380.0   False    False         True      False        False   \n4   79.0   410.0    True    False        False       True        False   \n\n   bought_yes  \n0        True  \n1       False  \n2        True  \n3       False  \n4        True  ",
      "text/html": "<div>\n<style scoped>\n    .dataframe tbody tr th:only-of-type {\n        vertical-align: middle;\n    }\n\n    .dataframe tbody tr th {\n        vertical-align: top;\n    }\n\n    .dataframe thead th {\n        text-align: right;\n    }\n</style>\n<table border=\"1\" class=\"dataframe\">\n  <thead>\n    <tr style=\"text-align: right;\">\n      <th></th>\n      <th>price</th>\n      <th>weight</th>\n      <th>size_M</th>\n      <th>size_XL</th>\n      <th>color_green</th>\n      <th>color_red</th>\n      <th>gender_male</th>\n      <th>bought_yes</th>\n    </tr>\n  </thead>\n  <tbody>\n    <tr>\n      <th>0</th>\n      <td>199.0</td>\n      <td>500.0</td>\n      <td>False</td>\n      <td>True</td>\n      <td>False</td>\n      <td>True</td>\n      <td>False</td>\n      <td>True</td>\n    </tr>\n    <tr>\n      <th>1</th>\n      <td>89.0</td>\n      <td>450.0</td>\n      <td>False</td>\n      <td>False</td>\n      <td>True</td>\n      <td>False</td>\n      <td>True</td>\n      <td>False</td>\n    </tr>\n    <tr>\n      <th>2</th>\n      <td>99.0</td>\n      <td>300.0</td>\n      <td>True</td>\n      <td>False</td>\n      <td>False</td>\n      <td>False</td>\n      <td>True</td>\n      <td>True</td>\n    </tr>\n    <tr>\n      <th>3</th>\n      <td>129.0</td>\n      <td>380.0</td>\n      <td>False</td>\n      <td>False</td>\n      <td>True</td>\n      <td>False</td>\n      <td>False</td>\n      <td>False</td>\n    </tr>\n    <tr>\n      <th>4</th>\n      <td>79.0</td>\n      <td>410.0</td>\n      <td>True</td>\n      <td>False</td>\n      <td>False</td>\n      <td>True</td>\n      <td>False</td>\n      <td>True</td>\n    </tr>\n  </tbody>\n</table>\n</div>"
     },
     "execution_count": 25,
     "metadata": {},
     "output_type": "execute_result"
    }
   ],
   "source": [
    "pd.get_dummies(data=df, drop_first=True)"
   ],
   "metadata": {
    "collapsed": false,
    "ExecuteTime": {
     "end_time": "2023-11-16T11:50:26.323763Z",
     "start_time": "2023-11-16T11:50:26.296361Z"
    }
   }
  },
  {
   "cell_type": "code",
   "execution_count": 26,
   "outputs": [
    {
     "data": {
      "text/plain": "   price  weight  new_M  new_XL  new_green  new_red  new_male  new_yes\n0  199.0   500.0  False    True      False     True     False     True\n1   89.0   450.0  False   False       True    False      True    False\n2   99.0   300.0   True   False      False    False      True     True\n3  129.0   380.0  False   False       True    False     False    False\n4   79.0   410.0   True   False      False     True     False     True",
      "text/html": "<div>\n<style scoped>\n    .dataframe tbody tr th:only-of-type {\n        vertical-align: middle;\n    }\n\n    .dataframe tbody tr th {\n        vertical-align: top;\n    }\n\n    .dataframe thead th {\n        text-align: right;\n    }\n</style>\n<table border=\"1\" class=\"dataframe\">\n  <thead>\n    <tr style=\"text-align: right;\">\n      <th></th>\n      <th>price</th>\n      <th>weight</th>\n      <th>new_M</th>\n      <th>new_XL</th>\n      <th>new_green</th>\n      <th>new_red</th>\n      <th>new_male</th>\n      <th>new_yes</th>\n    </tr>\n  </thead>\n  <tbody>\n    <tr>\n      <th>0</th>\n      <td>199.0</td>\n      <td>500.0</td>\n      <td>False</td>\n      <td>True</td>\n      <td>False</td>\n      <td>True</td>\n      <td>False</td>\n      <td>True</td>\n    </tr>\n    <tr>\n      <th>1</th>\n      <td>89.0</td>\n      <td>450.0</td>\n      <td>False</td>\n      <td>False</td>\n      <td>True</td>\n      <td>False</td>\n      <td>True</td>\n      <td>False</td>\n    </tr>\n    <tr>\n      <th>2</th>\n      <td>99.0</td>\n      <td>300.0</td>\n      <td>True</td>\n      <td>False</td>\n      <td>False</td>\n      <td>False</td>\n      <td>True</td>\n      <td>True</td>\n    </tr>\n    <tr>\n      <th>3</th>\n      <td>129.0</td>\n      <td>380.0</td>\n      <td>False</td>\n      <td>False</td>\n      <td>True</td>\n      <td>False</td>\n      <td>False</td>\n      <td>False</td>\n    </tr>\n    <tr>\n      <th>4</th>\n      <td>79.0</td>\n      <td>410.0</td>\n      <td>True</td>\n      <td>False</td>\n      <td>False</td>\n      <td>True</td>\n      <td>False</td>\n      <td>True</td>\n    </tr>\n  </tbody>\n</table>\n</div>"
     },
     "execution_count": 26,
     "metadata": {},
     "output_type": "execute_result"
    }
   ],
   "source": [
    "pd.get_dummies(data=df, drop_first=True, prefix='new')"
   ],
   "metadata": {
    "collapsed": false,
    "ExecuteTime": {
     "end_time": "2023-11-16T11:58:24.716338Z",
     "start_time": "2023-11-16T11:58:24.673382Z"
    }
   }
  },
  {
   "cell_type": "code",
   "execution_count": 27,
   "outputs": [
    {
     "data": {
      "text/plain": "   price  weight  size-M  size-XL  color-green  color-red  gender-male  \\\n0  199.0   500.0   False     True        False       True        False   \n1   89.0   450.0   False    False         True      False         True   \n2   99.0   300.0    True    False        False      False         True   \n3  129.0   380.0   False    False         True      False        False   \n4   79.0   410.0    True    False        False       True        False   \n\n   bought-yes  \n0        True  \n1       False  \n2        True  \n3       False  \n4        True  ",
      "text/html": "<div>\n<style scoped>\n    .dataframe tbody tr th:only-of-type {\n        vertical-align: middle;\n    }\n\n    .dataframe tbody tr th {\n        vertical-align: top;\n    }\n\n    .dataframe thead th {\n        text-align: right;\n    }\n</style>\n<table border=\"1\" class=\"dataframe\">\n  <thead>\n    <tr style=\"text-align: right;\">\n      <th></th>\n      <th>price</th>\n      <th>weight</th>\n      <th>size-M</th>\n      <th>size-XL</th>\n      <th>color-green</th>\n      <th>color-red</th>\n      <th>gender-male</th>\n      <th>bought-yes</th>\n    </tr>\n  </thead>\n  <tbody>\n    <tr>\n      <th>0</th>\n      <td>199.0</td>\n      <td>500.0</td>\n      <td>False</td>\n      <td>True</td>\n      <td>False</td>\n      <td>True</td>\n      <td>False</td>\n      <td>True</td>\n    </tr>\n    <tr>\n      <th>1</th>\n      <td>89.0</td>\n      <td>450.0</td>\n      <td>False</td>\n      <td>False</td>\n      <td>True</td>\n      <td>False</td>\n      <td>True</td>\n      <td>False</td>\n    </tr>\n    <tr>\n      <th>2</th>\n      <td>99.0</td>\n      <td>300.0</td>\n      <td>True</td>\n      <td>False</td>\n      <td>False</td>\n      <td>False</td>\n      <td>True</td>\n      <td>True</td>\n    </tr>\n    <tr>\n      <th>3</th>\n      <td>129.0</td>\n      <td>380.0</td>\n      <td>False</td>\n      <td>False</td>\n      <td>True</td>\n      <td>False</td>\n      <td>False</td>\n      <td>False</td>\n    </tr>\n    <tr>\n      <th>4</th>\n      <td>79.0</td>\n      <td>410.0</td>\n      <td>True</td>\n      <td>False</td>\n      <td>False</td>\n      <td>True</td>\n      <td>False</td>\n      <td>True</td>\n    </tr>\n  </tbody>\n</table>\n</div>"
     },
     "execution_count": 27,
     "metadata": {},
     "output_type": "execute_result"
    }
   ],
   "source": [
    "pd.get_dummies(data=df, drop_first=True, prefix_sep='-')"
   ],
   "metadata": {
    "collapsed": false,
    "ExecuteTime": {
     "end_time": "2023-11-16T11:58:37.684178Z",
     "start_time": "2023-11-16T11:58:37.659274Z"
    }
   }
  },
  {
   "cell_type": "code",
   "execution_count": 28,
   "outputs": [
    {
     "data": {
      "text/plain": "   color  gender  price  weight bought  size_M  size_XL\n0    red  female  199.0   500.0    yes   False     True\n1  green    male   89.0   450.0     no   False    False\n2   blue    male   99.0   300.0    yes    True    False\n3  green  female  129.0   380.0     no   False    False\n4    red  female   79.0   410.0    yes    True    False",
      "text/html": "<div>\n<style scoped>\n    .dataframe tbody tr th:only-of-type {\n        vertical-align: middle;\n    }\n\n    .dataframe tbody tr th {\n        vertical-align: top;\n    }\n\n    .dataframe thead th {\n        text-align: right;\n    }\n</style>\n<table border=\"1\" class=\"dataframe\">\n  <thead>\n    <tr style=\"text-align: right;\">\n      <th></th>\n      <th>color</th>\n      <th>gender</th>\n      <th>price</th>\n      <th>weight</th>\n      <th>bought</th>\n      <th>size_M</th>\n      <th>size_XL</th>\n    </tr>\n  </thead>\n  <tbody>\n    <tr>\n      <th>0</th>\n      <td>red</td>\n      <td>female</td>\n      <td>199.0</td>\n      <td>500.0</td>\n      <td>yes</td>\n      <td>False</td>\n      <td>True</td>\n    </tr>\n    <tr>\n      <th>1</th>\n      <td>green</td>\n      <td>male</td>\n      <td>89.0</td>\n      <td>450.0</td>\n      <td>no</td>\n      <td>False</td>\n      <td>False</td>\n    </tr>\n    <tr>\n      <th>2</th>\n      <td>blue</td>\n      <td>male</td>\n      <td>99.0</td>\n      <td>300.0</td>\n      <td>yes</td>\n      <td>True</td>\n      <td>False</td>\n    </tr>\n    <tr>\n      <th>3</th>\n      <td>green</td>\n      <td>female</td>\n      <td>129.0</td>\n      <td>380.0</td>\n      <td>no</td>\n      <td>False</td>\n      <td>False</td>\n    </tr>\n    <tr>\n      <th>4</th>\n      <td>red</td>\n      <td>female</td>\n      <td>79.0</td>\n      <td>410.0</td>\n      <td>yes</td>\n      <td>True</td>\n      <td>False</td>\n    </tr>\n  </tbody>\n</table>\n</div>"
     },
     "execution_count": 28,
     "metadata": {},
     "output_type": "execute_result"
    }
   ],
   "source": [
    "pd.get_dummies(data=df, drop_first=True, columns=['size'])"
   ],
   "metadata": {
    "collapsed": false,
    "ExecuteTime": {
     "end_time": "2023-11-16T11:58:55.637175Z",
     "start_time": "2023-11-16T11:58:55.617690Z"
    }
   }
  },
  {
   "cell_type": "code",
   "execution_count": 29,
   "outputs": [
    {
     "name": "stdout",
     "output_type": "stream",
     "text": [
      "0    199.0\n",
      "1     89.0\n",
      "2     99.0\n",
      "3    129.0\n",
      "4     79.0\n",
      "Name: price, dtype: float64\n",
      "\n",
      "Średnia: 119.0\n",
      "Odchylenie standardowe: 48.4768\n"
     ]
    }
   ],
   "source": [
    "print(f\"{df['price']}\\n\")\n",
    "print(f\"Średnia: {df['price'].mean()}\")\n",
    "print(f\"Odchylenie standardowe: {df['price'].std():.4f}\")"
   ],
   "metadata": {
    "collapsed": false,
    "ExecuteTime": {
     "end_time": "2023-11-16T11:59:12.001077Z",
     "start_time": "2023-11-16T11:59:11.977803Z"
    }
   }
  },
  {
   "cell_type": "code",
   "execution_count": 30,
   "outputs": [
    {
     "data": {
      "text/plain": "0    1.650274\n1   -0.618853\n2   -0.412568\n3    0.206284\n4   -0.825137\nName: price, dtype: float64"
     },
     "execution_count": 30,
     "metadata": {},
     "output_type": "execute_result"
    }
   ],
   "source": [
    "(df['price'] - df['price'].mean()) / df['price'].std()"
   ],
   "metadata": {
    "collapsed": false,
    "ExecuteTime": {
     "end_time": "2023-11-16T11:59:35.648129Z",
     "start_time": "2023-11-16T11:59:35.622066Z"
    }
   }
  },
  {
   "cell_type": "code",
   "execution_count": 31,
   "outputs": [
    {
     "data": {
      "text/plain": "0    1.650274\n1   -0.618853\n2   -0.412568\n3    0.206284\n4   -0.825137\nName: price, dtype: float64"
     },
     "execution_count": 31,
     "metadata": {},
     "output_type": "execute_result"
    }
   ],
   "source": [
    "def standardize(x):\n",
    "    return (x - x.mean()) / x.std()\n",
    "\n",
    "standardize(df['price'])"
   ],
   "metadata": {
    "collapsed": false,
    "ExecuteTime": {
     "end_time": "2023-11-16T11:59:55.233746Z",
     "start_time": "2023-11-16T11:59:55.219245Z"
    }
   }
  },
  {
   "cell_type": "code",
   "execution_count": 32,
   "outputs": [
    {
     "data": {
      "text/plain": "array([ 1.84506242, -0.69189841, -0.4612656 ,  0.2306328 , -0.92253121])"
     },
     "execution_count": 32,
     "metadata": {},
     "output_type": "execute_result"
    }
   ],
   "source": [
    "from sklearn.preprocessing import scale\n",
    "\n",
    "scale(df['price'])"
   ],
   "metadata": {
    "collapsed": false,
    "ExecuteTime": {
     "end_time": "2023-11-16T12:00:06.524621Z",
     "start_time": "2023-11-16T12:00:06.518004Z"
    }
   }
  },
  {
   "cell_type": "code",
   "execution_count": 33,
   "outputs": [
    {
     "data": {
      "text/plain": "array([[ 1.84506242],\n       [-0.69189841],\n       [-0.4612656 ],\n       [ 0.2306328 ],\n       [-0.92253121]])"
     },
     "execution_count": 33,
     "metadata": {},
     "output_type": "execute_result"
    }
   ],
   "source": [
    "from sklearn.preprocessing import StandardScaler\n",
    "\n",
    "scaler = StandardScaler()\n",
    "scaler.fit(df[['price']])\n",
    "scaler.transform(df[['price']])"
   ],
   "metadata": {
    "collapsed": false,
    "ExecuteTime": {
     "end_time": "2023-11-16T12:00:19.058179Z",
     "start_time": "2023-11-16T12:00:19.035856Z"
    }
   }
  },
  {
   "cell_type": "code",
   "execution_count": 34,
   "outputs": [
    {
     "data": {
      "text/plain": "  size  color  gender     price    weight bought\n0   XL    red  female  1.845062  1.366002    yes\n1    L  green    male -0.691898  0.623610     no\n2    M   blue    male -0.461266 -1.603567    yes\n3    L  green  female  0.230633 -0.415740     no\n4    M    red  female -0.922531  0.029696    yes",
      "text/html": "<div>\n<style scoped>\n    .dataframe tbody tr th:only-of-type {\n        vertical-align: middle;\n    }\n\n    .dataframe tbody tr th {\n        vertical-align: top;\n    }\n\n    .dataframe thead th {\n        text-align: right;\n    }\n</style>\n<table border=\"1\" class=\"dataframe\">\n  <thead>\n    <tr style=\"text-align: right;\">\n      <th></th>\n      <th>size</th>\n      <th>color</th>\n      <th>gender</th>\n      <th>price</th>\n      <th>weight</th>\n      <th>bought</th>\n    </tr>\n  </thead>\n  <tbody>\n    <tr>\n      <th>0</th>\n      <td>XL</td>\n      <td>red</td>\n      <td>female</td>\n      <td>1.845062</td>\n      <td>1.366002</td>\n      <td>yes</td>\n    </tr>\n    <tr>\n      <th>1</th>\n      <td>L</td>\n      <td>green</td>\n      <td>male</td>\n      <td>-0.691898</td>\n      <td>0.623610</td>\n      <td>no</td>\n    </tr>\n    <tr>\n      <th>2</th>\n      <td>M</td>\n      <td>blue</td>\n      <td>male</td>\n      <td>-0.461266</td>\n      <td>-1.603567</td>\n      <td>yes</td>\n    </tr>\n    <tr>\n      <th>3</th>\n      <td>L</td>\n      <td>green</td>\n      <td>female</td>\n      <td>0.230633</td>\n      <td>-0.415740</td>\n      <td>no</td>\n    </tr>\n    <tr>\n      <th>4</th>\n      <td>M</td>\n      <td>red</td>\n      <td>female</td>\n      <td>-0.922531</td>\n      <td>0.029696</td>\n      <td>yes</td>\n    </tr>\n  </tbody>\n</table>\n</div>"
     },
     "execution_count": 34,
     "metadata": {},
     "output_type": "execute_result"
    }
   ],
   "source": [
    "scaler = StandardScaler()\n",
    "df[['price', 'weight']] = scaler.fit_transform(df[['price', 'weight']])\n",
    "df"
   ],
   "metadata": {
    "collapsed": false,
    "ExecuteTime": {
     "end_time": "2023-11-16T12:00:56.683769Z",
     "start_time": "2023-11-16T12:00:56.674423Z"
    }
   }
  },
  {
   "cell_type": "code",
   "execution_count": 35,
   "outputs": [
    {
     "data": {
      "text/plain": "  size  color  gender  price  weight bought\n0   XL    red  female  199.0     500    yes\n1    L  green    male   89.0     450     no\n2    M   blue    male   99.0     300    yes\n3    L  green  female  129.0     380     no\n4    M    red  female   79.0     410    yes",
      "text/html": "<div>\n<style scoped>\n    .dataframe tbody tr th:only-of-type {\n        vertical-align: middle;\n    }\n\n    .dataframe tbody tr th {\n        vertical-align: top;\n    }\n\n    .dataframe thead th {\n        text-align: right;\n    }\n</style>\n<table border=\"1\" class=\"dataframe\">\n  <thead>\n    <tr style=\"text-align: right;\">\n      <th></th>\n      <th>size</th>\n      <th>color</th>\n      <th>gender</th>\n      <th>price</th>\n      <th>weight</th>\n      <th>bought</th>\n    </tr>\n  </thead>\n  <tbody>\n    <tr>\n      <th>0</th>\n      <td>XL</td>\n      <td>red</td>\n      <td>female</td>\n      <td>199.0</td>\n      <td>500</td>\n      <td>yes</td>\n    </tr>\n    <tr>\n      <th>1</th>\n      <td>L</td>\n      <td>green</td>\n      <td>male</td>\n      <td>89.0</td>\n      <td>450</td>\n      <td>no</td>\n    </tr>\n    <tr>\n      <th>2</th>\n      <td>M</td>\n      <td>blue</td>\n      <td>male</td>\n      <td>99.0</td>\n      <td>300</td>\n      <td>yes</td>\n    </tr>\n    <tr>\n      <th>3</th>\n      <td>L</td>\n      <td>green</td>\n      <td>female</td>\n      <td>129.0</td>\n      <td>380</td>\n      <td>no</td>\n    </tr>\n    <tr>\n      <th>4</th>\n      <td>M</td>\n      <td>red</td>\n      <td>female</td>\n      <td>79.0</td>\n      <td>410</td>\n      <td>yes</td>\n    </tr>\n  </tbody>\n</table>\n</div>"
     },
     "execution_count": 35,
     "metadata": {},
     "output_type": "execute_result"
    }
   ],
   "source": [
    "df = df_raw.copy()\n",
    "df"
   ],
   "metadata": {
    "collapsed": false,
    "ExecuteTime": {
     "end_time": "2023-11-16T12:01:13.833919Z",
     "start_time": "2023-11-16T12:01:13.829339Z"
    }
   }
  },
  {
   "cell_type": "code",
   "execution_count": 36,
   "outputs": [
    {
     "data": {
      "text/plain": "      price    weight  bought  size_M  size_XL  color_green  color_red  \\\n0  1.845062  1.366002       1   False     True        False       True   \n1 -0.691898  0.623610       0   False    False         True      False   \n2 -0.461266 -1.603567       1    True    False        False      False   \n3  0.230633 -0.415740       0   False    False         True      False   \n4 -0.922531  0.029696       1    True    False        False       True   \n\n   gender_male  \n0        False  \n1         True  \n2         True  \n3        False  \n4        False  ",
      "text/html": "<div>\n<style scoped>\n    .dataframe tbody tr th:only-of-type {\n        vertical-align: middle;\n    }\n\n    .dataframe tbody tr th {\n        vertical-align: top;\n    }\n\n    .dataframe thead th {\n        text-align: right;\n    }\n</style>\n<table border=\"1\" class=\"dataframe\">\n  <thead>\n    <tr style=\"text-align: right;\">\n      <th></th>\n      <th>price</th>\n      <th>weight</th>\n      <th>bought</th>\n      <th>size_M</th>\n      <th>size_XL</th>\n      <th>color_green</th>\n      <th>color_red</th>\n      <th>gender_male</th>\n    </tr>\n  </thead>\n  <tbody>\n    <tr>\n      <th>0</th>\n      <td>1.845062</td>\n      <td>1.366002</td>\n      <td>1</td>\n      <td>False</td>\n      <td>True</td>\n      <td>False</td>\n      <td>True</td>\n      <td>False</td>\n    </tr>\n    <tr>\n      <th>1</th>\n      <td>-0.691898</td>\n      <td>0.623610</td>\n      <td>0</td>\n      <td>False</td>\n      <td>False</td>\n      <td>True</td>\n      <td>False</td>\n      <td>True</td>\n    </tr>\n    <tr>\n      <th>2</th>\n      <td>-0.461266</td>\n      <td>-1.603567</td>\n      <td>1</td>\n      <td>True</td>\n      <td>False</td>\n      <td>False</td>\n      <td>False</td>\n      <td>True</td>\n    </tr>\n    <tr>\n      <th>3</th>\n      <td>0.230633</td>\n      <td>-0.415740</td>\n      <td>0</td>\n      <td>False</td>\n      <td>False</td>\n      <td>True</td>\n      <td>False</td>\n      <td>False</td>\n    </tr>\n    <tr>\n      <th>4</th>\n      <td>-0.922531</td>\n      <td>0.029696</td>\n      <td>1</td>\n      <td>True</td>\n      <td>False</td>\n      <td>False</td>\n      <td>True</td>\n      <td>False</td>\n    </tr>\n  </tbody>\n</table>\n</div>"
     },
     "execution_count": 36,
     "metadata": {},
     "output_type": "execute_result"
    }
   ],
   "source": [
    "le = LabelEncoder()\n",
    "\n",
    "df['bought'] = le.fit_transform(df['bought'])\n",
    "\n",
    "scaler = StandardScaler()\n",
    "df[['price', 'weight']] = scaler.fit_transform(df[['price', 'weight']])\n",
    "\n",
    "df = pd.get_dummies(data=df, drop_first=True)\n",
    "df"
   ],
   "metadata": {
    "collapsed": false,
    "ExecuteTime": {
     "end_time": "2023-11-16T12:01:31.380692Z",
     "start_time": "2023-11-16T12:01:31.336756Z"
    }
   }
  },
  {
   "cell_type": "code",
   "execution_count": null,
   "outputs": [],
   "source": [],
   "metadata": {
    "collapsed": false
   }
  }
 ]
}
