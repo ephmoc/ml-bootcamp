{
 "cells": [
  {
   "cell_type": "code",
   "execution_count": 1,
   "id": "initial_id",
   "metadata": {
    "collapsed": true,
    "ExecuteTime": {
     "end_time": "2023-11-17T09:59:10.542392Z",
     "start_time": "2023-11-17T09:59:10.451450Z"
    }
   },
   "outputs": [
    {
     "data": {
      "text/plain": "'1.3.2'"
     },
     "execution_count": 1,
     "metadata": {},
     "output_type": "execute_result"
    }
   ],
   "source": [
    "import numpy as np\n",
    "import pandas as pd\n",
    "import sklearn\n",
    "\n",
    "sklearn.__version__"
   ]
  },
  {
   "cell_type": "code",
   "execution_count": 3,
   "outputs": [
    {
     "data": {
      "text/plain": "              Open    High     Low   Close    Volume\nDate                                                \n2023-11-16  140.91  143.32  139.52  142.83  49653512\n2023-11-15  147.06  147.29  142.59  143.20  63875720\n2023-11-14  145.00  147.26  144.68  145.80  56674551\n2023-11-13  142.08  143.23  140.67  142.59  35680570\n2023-11-10  140.46  143.65  139.91  143.56  49349937",
      "text/html": "<div>\n<style scoped>\n    .dataframe tbody tr th:only-of-type {\n        vertical-align: middle;\n    }\n\n    .dataframe tbody tr th {\n        vertical-align: top;\n    }\n\n    .dataframe thead th {\n        text-align: right;\n    }\n</style>\n<table border=\"1\" class=\"dataframe\">\n  <thead>\n    <tr style=\"text-align: right;\">\n      <th></th>\n      <th>Open</th>\n      <th>High</th>\n      <th>Low</th>\n      <th>Close</th>\n      <th>Volume</th>\n    </tr>\n    <tr>\n      <th>Date</th>\n      <th></th>\n      <th></th>\n      <th></th>\n      <th></th>\n      <th></th>\n    </tr>\n  </thead>\n  <tbody>\n    <tr>\n      <th>2023-11-16</th>\n      <td>140.91</td>\n      <td>143.32</td>\n      <td>139.52</td>\n      <td>142.83</td>\n      <td>49653512</td>\n    </tr>\n    <tr>\n      <th>2023-11-15</th>\n      <td>147.06</td>\n      <td>147.29</td>\n      <td>142.59</td>\n      <td>143.20</td>\n      <td>63875720</td>\n    </tr>\n    <tr>\n      <th>2023-11-14</th>\n      <td>145.00</td>\n      <td>147.26</td>\n      <td>144.68</td>\n      <td>145.80</td>\n      <td>56674551</td>\n    </tr>\n    <tr>\n      <th>2023-11-13</th>\n      <td>142.08</td>\n      <td>143.23</td>\n      <td>140.67</td>\n      <td>142.59</td>\n      <td>35680570</td>\n    </tr>\n    <tr>\n      <th>2023-11-10</th>\n      <td>140.46</td>\n      <td>143.65</td>\n      <td>139.91</td>\n      <td>143.56</td>\n      <td>49349937</td>\n    </tr>\n  </tbody>\n</table>\n</div>"
     },
     "execution_count": 3,
     "metadata": {},
     "output_type": "execute_result"
    }
   ],
   "source": [
    "\n",
    "def fetch_financial_data(company='AMZN'):\n",
    "    \"\"\"\n",
    "    This function fetches stock market quotations.\n",
    "    \"\"\"\n",
    "    import pandas_datareader.data as web\n",
    "    return web.DataReader(name=company, data_source='stooq')\n",
    "\n",
    "df_raw = fetch_financial_data()\n",
    "df_raw.head()"
   ],
   "metadata": {
    "collapsed": false,
    "ExecuteTime": {
     "end_time": "2023-11-17T10:01:59.817503Z",
     "start_time": "2023-11-17T10:01:58.882441Z"
    }
   },
   "id": "9ee74ac668a5dd4b"
  },
  {
   "cell_type": "code",
   "execution_count": 4,
   "outputs": [
    {
     "name": "stdout",
     "output_type": "stream",
     "text": [
      "<class 'pandas.core.frame.DataFrame'>\n",
      "DatetimeIndex: 5 entries, 2023-11-16 to 2023-11-10\n",
      "Data columns (total 5 columns):\n",
      " #   Column  Non-Null Count  Dtype  \n",
      "---  ------  --------------  -----  \n",
      " 0   Open    5 non-null      float64\n",
      " 1   High    5 non-null      float64\n",
      " 2   Low     5 non-null      float64\n",
      " 3   Close   5 non-null      float64\n",
      " 4   Volume  5 non-null      int64  \n",
      "dtypes: float64(4), int64(1)\n",
      "memory usage: 240.0 bytes\n"
     ]
    }
   ],
   "source": [
    "\n",
    "df = df_raw.copy()\n",
    "df = df[:5]\n",
    "df.info()"
   ],
   "metadata": {
    "collapsed": false,
    "ExecuteTime": {
     "end_time": "2023-11-17T10:02:18.071403Z",
     "start_time": "2023-11-17T10:02:18.066214Z"
    }
   },
   "id": "7c578a16de673061"
  },
  {
   "cell_type": "code",
   "execution_count": 5,
   "outputs": [
    {
     "data": {
      "text/plain": "Index([11, 11, 11, 11, 11], dtype='int32', name='Date')"
     },
     "execution_count": 5,
     "metadata": {},
     "output_type": "execute_result"
    }
   ],
   "source": [
    "\n",
    "df.index.month"
   ],
   "metadata": {
    "collapsed": false,
    "ExecuteTime": {
     "end_time": "2023-11-17T10:02:26.300977Z",
     "start_time": "2023-11-17T10:02:26.294275Z"
    }
   },
   "id": "df2c966aa518152b"
  },
  {
   "cell_type": "code",
   "execution_count": 6,
   "outputs": [
    {
     "data": {
      "text/plain": "              Open    High     Low   Close    Volume  day  month  year\nDate                                                                  \n2023-11-16  140.91  143.32  139.52  142.83  49653512   16     11  2023\n2023-11-15  147.06  147.29  142.59  143.20  63875720   15     11  2023\n2023-11-14  145.00  147.26  144.68  145.80  56674551   14     11  2023\n2023-11-13  142.08  143.23  140.67  142.59  35680570   13     11  2023\n2023-11-10  140.46  143.65  139.91  143.56  49349937   10     11  2023",
      "text/html": "<div>\n<style scoped>\n    .dataframe tbody tr th:only-of-type {\n        vertical-align: middle;\n    }\n\n    .dataframe tbody tr th {\n        vertical-align: top;\n    }\n\n    .dataframe thead th {\n        text-align: right;\n    }\n</style>\n<table border=\"1\" class=\"dataframe\">\n  <thead>\n    <tr style=\"text-align: right;\">\n      <th></th>\n      <th>Open</th>\n      <th>High</th>\n      <th>Low</th>\n      <th>Close</th>\n      <th>Volume</th>\n      <th>day</th>\n      <th>month</th>\n      <th>year</th>\n    </tr>\n    <tr>\n      <th>Date</th>\n      <th></th>\n      <th></th>\n      <th></th>\n      <th></th>\n      <th></th>\n      <th></th>\n      <th></th>\n      <th></th>\n    </tr>\n  </thead>\n  <tbody>\n    <tr>\n      <th>2023-11-16</th>\n      <td>140.91</td>\n      <td>143.32</td>\n      <td>139.52</td>\n      <td>142.83</td>\n      <td>49653512</td>\n      <td>16</td>\n      <td>11</td>\n      <td>2023</td>\n    </tr>\n    <tr>\n      <th>2023-11-15</th>\n      <td>147.06</td>\n      <td>147.29</td>\n      <td>142.59</td>\n      <td>143.20</td>\n      <td>63875720</td>\n      <td>15</td>\n      <td>11</td>\n      <td>2023</td>\n    </tr>\n    <tr>\n      <th>2023-11-14</th>\n      <td>145.00</td>\n      <td>147.26</td>\n      <td>144.68</td>\n      <td>145.80</td>\n      <td>56674551</td>\n      <td>14</td>\n      <td>11</td>\n      <td>2023</td>\n    </tr>\n    <tr>\n      <th>2023-11-13</th>\n      <td>142.08</td>\n      <td>143.23</td>\n      <td>140.67</td>\n      <td>142.59</td>\n      <td>35680570</td>\n      <td>13</td>\n      <td>11</td>\n      <td>2023</td>\n    </tr>\n    <tr>\n      <th>2023-11-10</th>\n      <td>140.46</td>\n      <td>143.65</td>\n      <td>139.91</td>\n      <td>143.56</td>\n      <td>49349937</td>\n      <td>10</td>\n      <td>11</td>\n      <td>2023</td>\n    </tr>\n  </tbody>\n</table>\n</div>"
     },
     "execution_count": 6,
     "metadata": {},
     "output_type": "execute_result"
    }
   ],
   "source": [
    "df['day'] = df.index.day\n",
    "df['month'] = df.index.month\n",
    "df['year'] = df.index.year\n",
    "df"
   ],
   "metadata": {
    "collapsed": false,
    "ExecuteTime": {
     "end_time": "2023-11-17T10:02:35.715340Z",
     "start_time": "2023-11-17T10:02:35.701902Z"
    }
   },
   "id": "34a7e18e3231406b"
  },
  {
   "cell_type": "code",
   "execution_count": 7,
   "outputs": [
    {
     "data": {
      "text/plain": "   height\n0   175.0\n1   178.5\n2   185.0\n3   191.0\n4   184.5\n5   183.0\n6   168.0",
      "text/html": "<div>\n<style scoped>\n    .dataframe tbody tr th:only-of-type {\n        vertical-align: middle;\n    }\n\n    .dataframe tbody tr th {\n        vertical-align: top;\n    }\n\n    .dataframe thead th {\n        text-align: right;\n    }\n</style>\n<table border=\"1\" class=\"dataframe\">\n  <thead>\n    <tr style=\"text-align: right;\">\n      <th></th>\n      <th>height</th>\n    </tr>\n  </thead>\n  <tbody>\n    <tr>\n      <th>0</th>\n      <td>175.0</td>\n    </tr>\n    <tr>\n      <th>1</th>\n      <td>178.5</td>\n    </tr>\n    <tr>\n      <th>2</th>\n      <td>185.0</td>\n    </tr>\n    <tr>\n      <th>3</th>\n      <td>191.0</td>\n    </tr>\n    <tr>\n      <th>4</th>\n      <td>184.5</td>\n    </tr>\n    <tr>\n      <th>5</th>\n      <td>183.0</td>\n    </tr>\n    <tr>\n      <th>6</th>\n      <td>168.0</td>\n    </tr>\n  </tbody>\n</table>\n</div>"
     },
     "execution_count": 7,
     "metadata": {},
     "output_type": "execute_result"
    }
   ],
   "source": [
    "df = pd.DataFrame(data={'height': [175., 178.5, 185., 191., 184.5, 183., 168.]})\n",
    "df"
   ],
   "metadata": {
    "collapsed": false,
    "ExecuteTime": {
     "end_time": "2023-11-17T10:03:00.146399Z",
     "start_time": "2023-11-17T10:03:00.116787Z"
    }
   },
   "id": "eac95966433e4b1a"
  },
  {
   "cell_type": "code",
   "execution_count": 8,
   "outputs": [
    {
     "data": {
      "text/plain": "   height          height_cat\n0   175.0  (167.977, 175.667]\n1   178.5  (175.667, 183.333]\n2   185.0    (183.333, 191.0]\n3   191.0    (183.333, 191.0]\n4   184.5    (183.333, 191.0]\n5   183.0  (175.667, 183.333]\n6   168.0  (167.977, 175.667]",
      "text/html": "<div>\n<style scoped>\n    .dataframe tbody tr th:only-of-type {\n        vertical-align: middle;\n    }\n\n    .dataframe tbody tr th {\n        vertical-align: top;\n    }\n\n    .dataframe thead th {\n        text-align: right;\n    }\n</style>\n<table border=\"1\" class=\"dataframe\">\n  <thead>\n    <tr style=\"text-align: right;\">\n      <th></th>\n      <th>height</th>\n      <th>height_cat</th>\n    </tr>\n  </thead>\n  <tbody>\n    <tr>\n      <th>0</th>\n      <td>175.0</td>\n      <td>(167.977, 175.667]</td>\n    </tr>\n    <tr>\n      <th>1</th>\n      <td>178.5</td>\n      <td>(175.667, 183.333]</td>\n    </tr>\n    <tr>\n      <th>2</th>\n      <td>185.0</td>\n      <td>(183.333, 191.0]</td>\n    </tr>\n    <tr>\n      <th>3</th>\n      <td>191.0</td>\n      <td>(183.333, 191.0]</td>\n    </tr>\n    <tr>\n      <th>4</th>\n      <td>184.5</td>\n      <td>(183.333, 191.0]</td>\n    </tr>\n    <tr>\n      <th>5</th>\n      <td>183.0</td>\n      <td>(175.667, 183.333]</td>\n    </tr>\n    <tr>\n      <th>6</th>\n      <td>168.0</td>\n      <td>(167.977, 175.667]</td>\n    </tr>\n  </tbody>\n</table>\n</div>"
     },
     "execution_count": 8,
     "metadata": {},
     "output_type": "execute_result"
    }
   ],
   "source": [
    "df['height_cat'] = pd.cut(x=df.height, bins=3)\n",
    "df"
   ],
   "metadata": {
    "collapsed": false,
    "ExecuteTime": {
     "end_time": "2023-11-17T10:03:42.303049Z",
     "start_time": "2023-11-17T10:03:42.276014Z"
    }
   },
   "id": "62ef15456477d3da"
  },
  {
   "cell_type": "code",
   "execution_count": 9,
   "outputs": [
    {
     "data": {
      "text/plain": "   height  height_cat\n0   175.0  (160, 175]\n1   178.5  (175, 180]\n2   185.0  (180, 195]\n3   191.0  (180, 195]\n4   184.5  (180, 195]\n5   183.0  (180, 195]\n6   168.0  (160, 175]",
      "text/html": "<div>\n<style scoped>\n    .dataframe tbody tr th:only-of-type {\n        vertical-align: middle;\n    }\n\n    .dataframe tbody tr th {\n        vertical-align: top;\n    }\n\n    .dataframe thead th {\n        text-align: right;\n    }\n</style>\n<table border=\"1\" class=\"dataframe\">\n  <thead>\n    <tr style=\"text-align: right;\">\n      <th></th>\n      <th>height</th>\n      <th>height_cat</th>\n    </tr>\n  </thead>\n  <tbody>\n    <tr>\n      <th>0</th>\n      <td>175.0</td>\n      <td>(160, 175]</td>\n    </tr>\n    <tr>\n      <th>1</th>\n      <td>178.5</td>\n      <td>(175, 180]</td>\n    </tr>\n    <tr>\n      <th>2</th>\n      <td>185.0</td>\n      <td>(180, 195]</td>\n    </tr>\n    <tr>\n      <th>3</th>\n      <td>191.0</td>\n      <td>(180, 195]</td>\n    </tr>\n    <tr>\n      <th>4</th>\n      <td>184.5</td>\n      <td>(180, 195]</td>\n    </tr>\n    <tr>\n      <th>5</th>\n      <td>183.0</td>\n      <td>(180, 195]</td>\n    </tr>\n    <tr>\n      <th>6</th>\n      <td>168.0</td>\n      <td>(160, 175]</td>\n    </tr>\n  </tbody>\n</table>\n</div>"
     },
     "execution_count": 9,
     "metadata": {},
     "output_type": "execute_result"
    }
   ],
   "source": [
    "df['height_cat'] = pd.cut(x=df.height, bins=(160, 175, 180, 195))\n",
    "df"
   ],
   "metadata": {
    "collapsed": false,
    "ExecuteTime": {
     "end_time": "2023-11-17T10:04:08.249574Z",
     "start_time": "2023-11-17T10:04:08.243871Z"
    }
   },
   "id": "ff7a91f8b81881ea"
  },
  {
   "cell_type": "code",
   "execution_count": 10,
   "outputs": [
    {
     "data": {
      "text/plain": "   height height_cat\n0   175.0      small\n1   178.5     medium\n2   185.0       high\n3   191.0       high\n4   184.5       high\n5   183.0       high\n6   168.0      small",
      "text/html": "<div>\n<style scoped>\n    .dataframe tbody tr th:only-of-type {\n        vertical-align: middle;\n    }\n\n    .dataframe tbody tr th {\n        vertical-align: top;\n    }\n\n    .dataframe thead th {\n        text-align: right;\n    }\n</style>\n<table border=\"1\" class=\"dataframe\">\n  <thead>\n    <tr style=\"text-align: right;\">\n      <th></th>\n      <th>height</th>\n      <th>height_cat</th>\n    </tr>\n  </thead>\n  <tbody>\n    <tr>\n      <th>0</th>\n      <td>175.0</td>\n      <td>small</td>\n    </tr>\n    <tr>\n      <th>1</th>\n      <td>178.5</td>\n      <td>medium</td>\n    </tr>\n    <tr>\n      <th>2</th>\n      <td>185.0</td>\n      <td>high</td>\n    </tr>\n    <tr>\n      <th>3</th>\n      <td>191.0</td>\n      <td>high</td>\n    </tr>\n    <tr>\n      <th>4</th>\n      <td>184.5</td>\n      <td>high</td>\n    </tr>\n    <tr>\n      <th>5</th>\n      <td>183.0</td>\n      <td>high</td>\n    </tr>\n    <tr>\n      <th>6</th>\n      <td>168.0</td>\n      <td>small</td>\n    </tr>\n  </tbody>\n</table>\n</div>"
     },
     "execution_count": 10,
     "metadata": {},
     "output_type": "execute_result"
    }
   ],
   "source": [
    "df['height_cat'] = pd.cut(x=df.height, bins=(160, 175, 180, 195), labels=['small', 'medium', 'high'])\n",
    "df"
   ],
   "metadata": {
    "collapsed": false,
    "ExecuteTime": {
     "end_time": "2023-11-17T10:04:29.758964Z",
     "start_time": "2023-11-17T10:04:29.743411Z"
    }
   },
   "id": "3a05a9632a7200d"
  },
  {
   "cell_type": "code",
   "execution_count": 11,
   "outputs": [
    {
     "data": {
      "text/plain": "   height  height_medium  height_high\n0   175.0          False        False\n1   178.5           True        False\n2   185.0          False         True\n3   191.0          False         True\n4   184.5          False         True\n5   183.0          False         True\n6   168.0          False        False",
      "text/html": "<div>\n<style scoped>\n    .dataframe tbody tr th:only-of-type {\n        vertical-align: middle;\n    }\n\n    .dataframe tbody tr th {\n        vertical-align: top;\n    }\n\n    .dataframe thead th {\n        text-align: right;\n    }\n</style>\n<table border=\"1\" class=\"dataframe\">\n  <thead>\n    <tr style=\"text-align: right;\">\n      <th></th>\n      <th>height</th>\n      <th>height_medium</th>\n      <th>height_high</th>\n    </tr>\n  </thead>\n  <tbody>\n    <tr>\n      <th>0</th>\n      <td>175.0</td>\n      <td>False</td>\n      <td>False</td>\n    </tr>\n    <tr>\n      <th>1</th>\n      <td>178.5</td>\n      <td>True</td>\n      <td>False</td>\n    </tr>\n    <tr>\n      <th>2</th>\n      <td>185.0</td>\n      <td>False</td>\n      <td>True</td>\n    </tr>\n    <tr>\n      <th>3</th>\n      <td>191.0</td>\n      <td>False</td>\n      <td>True</td>\n    </tr>\n    <tr>\n      <th>4</th>\n      <td>184.5</td>\n      <td>False</td>\n      <td>True</td>\n    </tr>\n    <tr>\n      <th>5</th>\n      <td>183.0</td>\n      <td>False</td>\n      <td>True</td>\n    </tr>\n    <tr>\n      <th>6</th>\n      <td>168.0</td>\n      <td>False</td>\n      <td>False</td>\n    </tr>\n  </tbody>\n</table>\n</div>"
     },
     "execution_count": 11,
     "metadata": {},
     "output_type": "execute_result"
    }
   ],
   "source": [
    "pd.get_dummies(df, drop_first=True, prefix='height')"
   ],
   "metadata": {
    "collapsed": false,
    "ExecuteTime": {
     "end_time": "2023-11-17T10:04:44.562157Z",
     "start_time": "2023-11-17T10:04:44.541515Z"
    }
   },
   "id": "3621e3afcb784620"
  },
  {
   "cell_type": "code",
   "execution_count": 12,
   "outputs": [
    {
     "data": {
      "text/plain": "                  lang\n0            [PL, ENG]\n1  [GER, ENG, PL, FRA]\n2                [RUS]",
      "text/html": "<div>\n<style scoped>\n    .dataframe tbody tr th:only-of-type {\n        vertical-align: middle;\n    }\n\n    .dataframe tbody tr th {\n        vertical-align: top;\n    }\n\n    .dataframe thead th {\n        text-align: right;\n    }\n</style>\n<table border=\"1\" class=\"dataframe\">\n  <thead>\n    <tr style=\"text-align: right;\">\n      <th></th>\n      <th>lang</th>\n    </tr>\n  </thead>\n  <tbody>\n    <tr>\n      <th>0</th>\n      <td>[PL, ENG]</td>\n    </tr>\n    <tr>\n      <th>1</th>\n      <td>[GER, ENG, PL, FRA]</td>\n    </tr>\n    <tr>\n      <th>2</th>\n      <td>[RUS]</td>\n    </tr>\n  </tbody>\n</table>\n</div>"
     },
     "execution_count": 12,
     "metadata": {},
     "output_type": "execute_result"
    }
   ],
   "source": [
    "df = pd.DataFrame(data={'lang': [['PL', 'ENG'], ['GER', 'ENG', 'PL', 'FRA'], ['RUS']]})\n",
    "df"
   ],
   "metadata": {
    "collapsed": false,
    "ExecuteTime": {
     "end_time": "2023-11-17T10:04:53.583399Z",
     "start_time": "2023-11-17T10:04:53.561212Z"
    }
   },
   "id": "6cc41edb9416f669"
  },
  {
   "cell_type": "code",
   "execution_count": 13,
   "outputs": [
    {
     "data": {
      "text/plain": "                  lang  lang_number\n0            [PL, ENG]            2\n1  [GER, ENG, PL, FRA]            4\n2                [RUS]            1",
      "text/html": "<div>\n<style scoped>\n    .dataframe tbody tr th:only-of-type {\n        vertical-align: middle;\n    }\n\n    .dataframe tbody tr th {\n        vertical-align: top;\n    }\n\n    .dataframe thead th {\n        text-align: right;\n    }\n</style>\n<table border=\"1\" class=\"dataframe\">\n  <thead>\n    <tr style=\"text-align: right;\">\n      <th></th>\n      <th>lang</th>\n      <th>lang_number</th>\n    </tr>\n  </thead>\n  <tbody>\n    <tr>\n      <th>0</th>\n      <td>[PL, ENG]</td>\n      <td>2</td>\n    </tr>\n    <tr>\n      <th>1</th>\n      <td>[GER, ENG, PL, FRA]</td>\n      <td>4</td>\n    </tr>\n    <tr>\n      <th>2</th>\n      <td>[RUS]</td>\n      <td>1</td>\n    </tr>\n  </tbody>\n</table>\n</div>"
     },
     "execution_count": 13,
     "metadata": {},
     "output_type": "execute_result"
    }
   ],
   "source": [
    "df['lang_number'] = df['lang'].apply(len)\n",
    "df\n",
    "    "
   ],
   "metadata": {
    "collapsed": false,
    "ExecuteTime": {
     "end_time": "2023-11-17T10:05:29.853990Z",
     "start_time": "2023-11-17T10:05:29.830011Z"
    }
   },
   "id": "b7e81299721b127e"
  },
  {
   "cell_type": "code",
   "execution_count": 14,
   "outputs": [
    {
     "data": {
      "text/plain": "                  lang  lang_number  PL_flag\n0            [PL, ENG]            2        1\n1  [GER, ENG, PL, FRA]            4        1\n2                [RUS]            1        0",
      "text/html": "<div>\n<style scoped>\n    .dataframe tbody tr th:only-of-type {\n        vertical-align: middle;\n    }\n\n    .dataframe tbody tr th {\n        vertical-align: top;\n    }\n\n    .dataframe thead th {\n        text-align: right;\n    }\n</style>\n<table border=\"1\" class=\"dataframe\">\n  <thead>\n    <tr style=\"text-align: right;\">\n      <th></th>\n      <th>lang</th>\n      <th>lang_number</th>\n      <th>PL_flag</th>\n    </tr>\n  </thead>\n  <tbody>\n    <tr>\n      <th>0</th>\n      <td>[PL, ENG]</td>\n      <td>2</td>\n      <td>1</td>\n    </tr>\n    <tr>\n      <th>1</th>\n      <td>[GER, ENG, PL, FRA]</td>\n      <td>4</td>\n      <td>1</td>\n    </tr>\n    <tr>\n      <th>2</th>\n      <td>[RUS]</td>\n      <td>1</td>\n      <td>0</td>\n    </tr>\n  </tbody>\n</table>\n</div>"
     },
     "execution_count": 14,
     "metadata": {},
     "output_type": "execute_result"
    }
   ],
   "source": [
    "df['PL_flag'] = df['lang'].apply(lambda x: 1 if 'PL' in x else 0)\n",
    "df"
   ],
   "metadata": {
    "collapsed": false,
    "ExecuteTime": {
     "end_time": "2023-11-17T10:05:52.295219Z",
     "start_time": "2023-11-17T10:05:52.276332Z"
    }
   },
   "id": "8468a951f2232333"
  },
  {
   "cell_type": "code",
   "execution_count": 15,
   "outputs": [
    {
     "data": {
      "text/plain": "      website\n0       wp.pl\n1     onet.pl\n2  google.com",
      "text/html": "<div>\n<style scoped>\n    .dataframe tbody tr th:only-of-type {\n        vertical-align: middle;\n    }\n\n    .dataframe tbody tr th {\n        vertical-align: top;\n    }\n\n    .dataframe thead th {\n        text-align: right;\n    }\n</style>\n<table border=\"1\" class=\"dataframe\">\n  <thead>\n    <tr style=\"text-align: right;\">\n      <th></th>\n      <th>website</th>\n    </tr>\n  </thead>\n  <tbody>\n    <tr>\n      <th>0</th>\n      <td>wp.pl</td>\n    </tr>\n    <tr>\n      <th>1</th>\n      <td>onet.pl</td>\n    </tr>\n    <tr>\n      <th>2</th>\n      <td>google.com</td>\n    </tr>\n  </tbody>\n</table>\n</div>"
     },
     "execution_count": 15,
     "metadata": {},
     "output_type": "execute_result"
    }
   ],
   "source": [
    "df = pd.DataFrame(data={'website': ['wp.pl', 'onet.pl', 'google.com']})\n",
    "df"
   ],
   "metadata": {
    "collapsed": false,
    "ExecuteTime": {
     "end_time": "2023-11-17T10:06:05.007049Z",
     "start_time": "2023-11-17T10:06:04.983201Z"
    }
   },
   "id": "5d7ed02bcab0f804"
  },
  {
   "cell_type": "code",
   "execution_count": 16,
   "outputs": [
    {
     "data": {
      "text/plain": "        0    1\n0      wp   pl\n1    onet   pl\n2  google  com",
      "text/html": "<div>\n<style scoped>\n    .dataframe tbody tr th:only-of-type {\n        vertical-align: middle;\n    }\n\n    .dataframe tbody tr th {\n        vertical-align: top;\n    }\n\n    .dataframe thead th {\n        text-align: right;\n    }\n</style>\n<table border=\"1\" class=\"dataframe\">\n  <thead>\n    <tr style=\"text-align: right;\">\n      <th></th>\n      <th>0</th>\n      <th>1</th>\n    </tr>\n  </thead>\n  <tbody>\n    <tr>\n      <th>0</th>\n      <td>wp</td>\n      <td>pl</td>\n    </tr>\n    <tr>\n      <th>1</th>\n      <td>onet</td>\n      <td>pl</td>\n    </tr>\n    <tr>\n      <th>2</th>\n      <td>google</td>\n      <td>com</td>\n    </tr>\n  </tbody>\n</table>\n</div>"
     },
     "execution_count": 16,
     "metadata": {},
     "output_type": "execute_result"
    }
   ],
   "source": [
    "df.website.str.split('.', expand=True)\n",
    "     "
   ],
   "metadata": {
    "collapsed": false,
    "ExecuteTime": {
     "end_time": "2023-11-17T10:06:18.169909Z",
     "start_time": "2023-11-17T10:06:18.138042Z"
    }
   },
   "id": "e7d2a575e6da9b28"
  },
  {
   "cell_type": "code",
   "execution_count": 17,
   "outputs": [
    {
     "data": {
      "text/plain": "      website  portal extension\n0       wp.pl      wp        pl\n1     onet.pl    onet        pl\n2  google.com  google       com",
      "text/html": "<div>\n<style scoped>\n    .dataframe tbody tr th:only-of-type {\n        vertical-align: middle;\n    }\n\n    .dataframe tbody tr th {\n        vertical-align: top;\n    }\n\n    .dataframe thead th {\n        text-align: right;\n    }\n</style>\n<table border=\"1\" class=\"dataframe\">\n  <thead>\n    <tr style=\"text-align: right;\">\n      <th></th>\n      <th>website</th>\n      <th>portal</th>\n      <th>extension</th>\n    </tr>\n  </thead>\n  <tbody>\n    <tr>\n      <th>0</th>\n      <td>wp.pl</td>\n      <td>wp</td>\n      <td>pl</td>\n    </tr>\n    <tr>\n      <th>1</th>\n      <td>onet.pl</td>\n      <td>onet</td>\n      <td>pl</td>\n    </tr>\n    <tr>\n      <th>2</th>\n      <td>google.com</td>\n      <td>google</td>\n      <td>com</td>\n    </tr>\n  </tbody>\n</table>\n</div>"
     },
     "execution_count": 17,
     "metadata": {},
     "output_type": "execute_result"
    }
   ],
   "source": [
    "\n",
    "new = df.website.str.split('.', expand=True)\n",
    "df['portal'] = new[0]\n",
    "df['extension'] = new[1]\n",
    "df\n",
    "     "
   ],
   "metadata": {
    "collapsed": false,
    "ExecuteTime": {
     "end_time": "2023-11-17T10:06:26.416773Z",
     "start_time": "2023-11-17T10:06:26.384539Z"
    }
   },
   "id": "21827d8c51471110"
  },
  {
   "cell_type": "code",
   "execution_count": null,
   "outputs": [],
   "source": [],
   "metadata": {
    "collapsed": false
   },
   "id": "39c2372c4b4a7ae6"
  }
 ],
 "metadata": {
  "kernelspec": {
   "display_name": "Python 3",
   "language": "python",
   "name": "python3"
  },
  "language_info": {
   "codemirror_mode": {
    "name": "ipython",
    "version": 2
   },
   "file_extension": ".py",
   "mimetype": "text/x-python",
   "name": "python",
   "nbconvert_exporter": "python",
   "pygments_lexer": "ipython2",
   "version": "2.7.6"
  }
 },
 "nbformat": 4,
 "nbformat_minor": 5
}
